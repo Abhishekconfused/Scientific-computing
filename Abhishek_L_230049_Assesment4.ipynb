{
 "cells": [
  {
   "cell_type": "code",
   "execution_count": 44,
   "id": "d386c6dc-25da-4247-894e-0e0d356c81c4",
   "metadata": {},
   "outputs": [],
   "source": [
    "import numpy as np#numpy the godd of linear algebra"
   ]
  },
  {
   "cell_type": "code",
   "execution_count": 45,
   "id": "85ac627b-f996-4a2a-98f5-d6d7f70c506c",
   "metadata": {},
   "outputs": [],
   "source": [
    "def matrix_inverse(A):#inverse of matrix\n",
    "    return np.linalg.inv(A)"
   ]
  },
  {
   "cell_type": "code",
   "execution_count": 46,
   "id": "cd22d810-c1b1-480e-93a2-1be1d6646fe6",
   "metadata": {},
   "outputs": [],
   "source": [
    "def matrix_multiplication(A,B):#multiplying 2 matrices\n",
    "    return np.dot(A,B)"
   ]
  },
  {
   "cell_type": "code",
   "execution_count": 47,
   "id": "97c27c98-c2d5-473a-aa5f-fa123035fd58",
   "metadata": {},
   "outputs": [],
   "source": [
    "A=np.array([[1,2,3],[4,5,6],[7,8,9]])#testing above functions defined"
   ]
  },
  {
   "cell_type": "code",
   "execution_count": 48,
   "id": "5c832927-1fe0-41cc-b32b-d49fac6570cc",
   "metadata": {},
   "outputs": [
    {
     "data": {
      "text/plain": [
       "array([[ 3.15251974e+15, -6.30503948e+15,  3.15251974e+15],\n",
       "       [-6.30503948e+15,  1.26100790e+16, -6.30503948e+15],\n",
       "       [ 3.15251974e+15, -6.30503948e+15,  3.15251974e+15]])"
      ]
     },
     "execution_count": 48,
     "metadata": {},
     "output_type": "execute_result"
    }
   ],
   "source": [
    "matrix_inverse(A)#testing above functions defined"
   ]
  },
  {
   "cell_type": "code",
   "execution_count": 49,
   "id": "0f39d3a4-3d40-4539-bdc6-dab67f500215",
   "metadata": {},
   "outputs": [],
   "source": [
    "I=np.array([[1,0,0],[0,1,0],[0,0,1]])#testing above functions defined"
   ]
  },
  {
   "cell_type": "code",
   "execution_count": 50,
   "id": "efdc1229-b5f7-4fa8-9f33-5506439485ee",
   "metadata": {},
   "outputs": [
    {
     "data": {
      "text/plain": [
       "array([[1., 0., 0.],\n",
       "       [0., 1., 0.],\n",
       "       [0., 0., 1.]])"
      ]
     },
     "execution_count": 50,
     "metadata": {},
     "output_type": "execute_result"
    }
   ],
   "source": [
    "matrix_inverse(I)#testing above functions defined"
   ]
  },
  {
   "cell_type": "code",
   "execution_count": 51,
   "id": "9c143364-a92b-43dc-af5f-13e369ef95e5",
   "metadata": {},
   "outputs": [],
   "source": [
    "def f1(a,b,c):#defining equations given in question\n",
    "    return 3*a-np.cos(b*c)-0.5"
   ]
  },
  {
   "cell_type": "code",
   "execution_count": 52,
   "id": "1be3331e-1a7f-4a7d-b1d9-610b1b47c8eb",
   "metadata": {},
   "outputs": [],
   "source": [
    "def f2(a,b,c):#defining equations given in question\n",
    "    return a*a-81*((b+0.1)*(b+0.1))+np.sin(c)+1.06"
   ]
  },
  {
   "cell_type": "code",
   "execution_count": 53,
   "id": "cd6361df-7aee-45a8-adf1-0be42ec46c5a",
   "metadata": {},
   "outputs": [],
   "source": [
    "def f3(a,b,c):#defining equations given in question\n",
    "    return np.exp(-a*b) + 20*c + (10*np.pi - 3)/3"
   ]
  },
  {
   "cell_type": "code",
   "execution_count": 54,
   "id": "8df8da3b-7a59-4442-8829-3de0a048027d",
   "metadata": {},
   "outputs": [],
   "source": [
    "def df11(a,b,c):#defining derivatives of equations given in question\n",
    "    return 3"
   ]
  },
  {
   "cell_type": "code",
   "execution_count": 55,
   "id": "e8a1c726-63ed-4a31-8dc1-df23d0e506a4",
   "metadata": {},
   "outputs": [],
   "source": [
    "def df12(a,b,c):#defining derivatives of equations given in question\n",
    "    return c*np.sin(b*c)"
   ]
  },
  {
   "cell_type": "code",
   "execution_count": 56,
   "id": "f2816e2f-671a-4919-87d8-74e716f9e5f7",
   "metadata": {},
   "outputs": [],
   "source": [
    "def df13(a,b,c):#defining derivatives of equations given in question\n",
    "    return b*np.sin(b*c)"
   ]
  },
  {
   "cell_type": "code",
   "execution_count": 57,
   "id": "b70efb4b-31dd-452e-978c-1f33200f5c2f",
   "metadata": {},
   "outputs": [],
   "source": [
    "def df21(a,b,c):#defining derivatives of equations given in question\n",
    "    return 2*a"
   ]
  },
  {
   "cell_type": "code",
   "execution_count": 58,
   "id": "2181621a-afad-4769-bb91-c5b5ecb80ff0",
   "metadata": {},
   "outputs": [],
   "source": [
    "def df22(a,b,c):#defining derivatives of equations given in question\n",
    "    return -162*(b+0.1)"
   ]
  },
  {
   "cell_type": "code",
   "execution_count": 59,
   "id": "044f301a-52c5-46e4-b480-c03507e6ecab",
   "metadata": {},
   "outputs": [],
   "source": [
    "def df23(a,b,c):#defining derivatives of equations given in question\n",
    "    return -np.cos(c)"
   ]
  },
  {
   "cell_type": "code",
   "execution_count": 60,
   "id": "50908725-b1ae-4dc9-895e-7d4b2b304b1a",
   "metadata": {},
   "outputs": [],
   "source": [
    "def df31(a,b,c):#defining derivatives of equations given in question\n",
    "    return -b*np.exp(-a*b)"
   ]
  },
  {
   "cell_type": "code",
   "execution_count": 61,
   "id": "c9ed02f2-c16c-4559-9bae-8223d65b6bde",
   "metadata": {},
   "outputs": [],
   "source": [
    "def df32(a,b,c):#defining derivatives of equations given in question\n",
    "    return -a*np.exp(-a*b)"
   ]
  },
  {
   "cell_type": "code",
   "execution_count": 62,
   "id": "784d4150-c75a-4758-b9bf-d2ab6750acd2",
   "metadata": {},
   "outputs": [],
   "source": [
    "def df33(a,b,c):#defining derivatives of equations given in question\n",
    "    return 20"
   ]
  },
  {
   "cell_type": "code",
   "execution_count": 63,
   "id": "34454386-49ec-4218-9845-2ee629f0cfaf",
   "metadata": {},
   "outputs": [],
   "source": [
    "def F(x): #F : Function representing system of equations\n",
    "    return np.array([f1(x[0],x[1],x[2]),f2(x[0],x[1],x[2]),f3(x[0],x[1],x[2])])"
   ]
  },
  {
   "cell_type": "code",
   "execution_count": 64,
   "id": "8aa720cc-f6b6-4816-a564-981a7f7da95a",
   "metadata": {},
   "outputs": [],
   "source": [
    "def J(x):#J : Function representing Jacobian matrix from ddrivatives\n",
    "    return np.array([[df11(x[0],x[1],x[2]),df12(x[0],x[1],x[2]),df13(x[0],x[1],x[2])],[df21(x[0],x[1],x[2]),df22(x[0],x[1],x[2]),df23(x[0],x[1],x[2])],[df31(x[0],x[1],x[2]),df32(x[0],x[1],x[2]),df33(x[0],x[1],x[2])]])"
   ]
  },
  {
   "cell_type": "code",
   "execution_count": 71,
   "id": "124380e9-f1b6-4e26-83c0-433cdfac4b95",
   "metadata": {},
   "outputs": [],
   "source": [
    "import pandas as pd\n",
    "def solver(x0, tol=1e-6, max_iter):#x0 : Initial guess\n",
    "    x = x0.copy()#I donot want to change my input\n",
    "    iteration_data = []#storing solution required\n",
    "    for i in range(max_iter):\n",
    "        fx = F(x)\n",
    "        Jx = J(x)\n",
    "        J_inv = matrix_inverse(Jx)\n",
    "        if J_inv is None:\n",
    "            print(\"Jacobian matrix is singular, cannot proceed\")\n",
    "            break\n",
    "\n",
    "        delta_x = matrix_multiplication(J_inv, -fx)\n",
    "        x_new = x + delta_x#parts of algorithm explained in last cell\n",
    "        delta_error = np.linalg.norm(delta_x)\n",
    "\n",
    "        # Store iteration data\n",
    "        iteration_data.append({\n",
    "            \"Iteration\": i+1,\n",
    "            \"x[1]\":x_new[0],\n",
    "            \"x[2]\":x_new[1],\n",
    "            \"x[3]\":x_new[2],\n",
    "            \"|x(k)-x(k-1)|\":delta_error\n",
    "        })#dictionry\n",
    "        x = x_new\n",
    "    df = pd.DataFrame(iteration_data)\n",
    "    return x, df"
   ]
  },
  {
   "cell_type": "code",
   "execution_count": 72,
   "id": "7c78f33a-1690-4081-a067-cdab2231ffec",
   "metadata": {},
   "outputs": [],
   "source": [
    "x=np.array([0.1,0.1,-0.1])"
   ]
  },
  {
   "cell_type": "code",
   "execution_count": 74,
   "id": "0ccfd017-f952-4616-ba6f-fe4b76b2ad17",
   "metadata": {},
   "outputs": [],
   "source": [
    "y,A=solver(x, tol=1e-6, max_iter=6)"
   ]
  },
  {
   "cell_type": "code",
   "execution_count": 75,
   "id": "8b6882d8-fc30-4ef3-b8f1-5349bc4e34b6",
   "metadata": {},
   "outputs": [
    {
     "name": "stdout",
     "output_type": "stream",
     "text": [
      "   Iteration      x[1]          x[2]      x[3]  |x(k)-x(k-1)|\n",
      "0          1  0.499861  4.535265e-02 -0.521392   5.834782e-01\n",
      "1          2  0.500063  7.233546e-03 -0.523409   3.817294e-02\n",
      "2          3  0.500002  2.626881e-04 -0.523592   6.973522e-03\n",
      "3          4  0.500000  1.073199e-06 -0.523599   2.617132e-04\n",
      "4          5  0.500000  2.913050e-09 -0.523599   1.070635e-06\n",
      "5          6  0.500000  7.776732e-12 -0.523599   2.906181e-09\n"
     ]
    }
   ],
   "source": [
    "print(A)"
   ]
  },
  {
   "cell_type": "code",
   "execution_count": null,
   "id": "8254ea39-f038-403e-a737-7ba1e0c88913",
   "metadata": {},
   "outputs": [],
   "source": [
    "#ALGOITHM IS SIMPLE\n",
    "# I AM AKING X AS IN PUT THEN CALULATING F MATIX AND JACOBIAN MATRIX WITH FUNCTIONS DEFINED ABOVE. THEN I AM FINDING DEELTA BY DELTA=delta_x = matrix_multiplication(J_inv, -fx) WHERE J_inv is the inverse of jacobian matrix then I m updating x=x+delta and iteratively continuing it until max itertions or I reach tolerant error"
   ]
  }
 ],
 "metadata": {
  "kernelspec": {
   "display_name": "Python 3 (ipykernel)",
   "language": "python",
   "name": "python3"
  },
  "language_info": {
   "codemirror_mode": {
    "name": "ipython",
    "version": 3
   },
   "file_extension": ".py",
   "mimetype": "text/x-python",
   "name": "python",
   "nbconvert_exporter": "python",
   "pygments_lexer": "ipython3",
   "version": "3.12.7"
  }
 },
 "nbformat": 4,
 "nbformat_minor": 5
}
