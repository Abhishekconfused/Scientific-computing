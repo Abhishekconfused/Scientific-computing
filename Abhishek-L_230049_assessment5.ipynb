{
 "cells": [
  {
   "cell_type": "code",
   "execution_count": 5,
   "id": "59772a33-6e10-4da4-8a51-0cd7c4297dfe",
   "metadata": {},
   "outputs": [],
   "source": [
    "import numpy as np"
   ]
  },
  {
   "cell_type": "code",
   "execution_count": 49,
   "id": "bf599764-71ff-4849-aaa2-374a413b0200",
   "metadata": {},
   "outputs": [
    {
     "name": "stdout",
     "output_type": "stream",
     "text": [
      "L:\n",
      "[[ 1.  0.  0.]\n",
      " [ 4.  1.  0.]\n",
      " [ 3. -2.  1.]]\n",
      "U:\n",
      "[[  1.   1.   1.]\n",
      " [  0.  -1.  -5.]\n",
      " [  0.   0. -10.]]\n"
     ]
    }
   ],
   "source": [
    "def LU(A, n):\n",
    "    L = np.zeros((n, n))#l INITIATED\n",
    "    U = np.zeros((n, n))#u INITIATED\n",
    "    for k in range(n):\n",
    "        L[k, k] = 1 #aLL DIAGONALS 1\n",
    "        t = 0\n",
    "        for p in range(k):\n",
    "            t += L[k, p] * U[p, k]\n",
    "        U[k, k] = A[k, k] - t#DIAGONAL OF U BASED ON PREVIOUS VALUES\n",
    "        for i in range(k + 1, n):\n",
    "            t = 0\n",
    "            for p in range(k):\n",
    "                t += L[i, p] * U[p, k]\n",
    "            L[i, k] = (A[i, k] - t) / U[k, k]#OTHER VALUES OF L\n",
    "        for j in range(k+1, n):\n",
    "            t = 0\n",
    "            for p in range(k):\n",
    "                t += L[k, p] * U[p, j]\n",
    "            U[k, j] = A[k, j] - t#OTHER VALUES OF U\n",
    "    return L, U\n",
    "A = np.array([[1,1,1], [4,3,-1],[3,5,3]])\n",
    "n = A.shape[0]\n",
    "L, U = LU(A, n)\n",
    "print(\"L:\")\n",
    "print(L)#printing beauty\n",
    "print(\"U:\")\n",
    "print(U)#printing beauty"
   ]
  },
  {
   "cell_type": "code",
   "execution_count": 50,
   "id": "4f900de7-f03c-4ba0-8cd9-d20363d6fdb3",
   "metadata": {},
   "outputs": [
    {
     "data": {
      "text/plain": [
       "array([[ 1.,  1.,  1.],\n",
       "       [ 4.,  3., -1.],\n",
       "       [ 3.,  5.,  3.]])"
      ]
     },
     "execution_count": 50,
     "metadata": {},
     "output_type": "execute_result"
    }
   ],
   "source": [
    "np.dot(L,U)#Verification"
   ]
  },
  {
   "cell_type": "code",
   "execution_count": 54,
   "id": "280736c5-b008-4cbd-aabc-39438d4c7a3b",
   "metadata": {},
   "outputs": [],
   "source": [
    "b=np.array([1,6,4])"
   ]
  },
  {
   "cell_type": "code",
   "execution_count": 51,
   "id": "a4a4e878-33c1-46ba-8a6e-8649d451e4f4",
   "metadata": {},
   "outputs": [],
   "source": [
    "def forward_substitution(L, b):#Solves the Lower triangular matrix system Lx = b using backward substitution\n",
    "    n = len(b)\n",
    "    x = np.zeros(n)\n",
    "    for i in range(n):\n",
    "        tmp = 0.0\n",
    "        for j in range(i):\n",
    "            tmp += L[i, j] * x[j]\n",
    "        x[i] = (b[i] - tmp) / L[i, i]\n",
    "    return x"
   ]
  },
  {
   "cell_type": "code",
   "execution_count": 52,
   "id": "39fe2245-b64a-4269-a7e7-ff02de2208df",
   "metadata": {},
   "outputs": [],
   "source": [
    "def backward_substitution(U, b):#Solves the upper triangular system Ux = b using backward substitution\n",
    "    n = len(b)\n",
    "    x = np.zeros(n)\n",
    "    # Start from the last equation and move upwards\n",
    "    for i in range(n-1, -1, -1):#START FROM BACK\n",
    "        x[i] = (b[i] - np.dot(U[i, i+1:], x[i+1:])) / U[i, i]#i AM TAKING DOT OF ALL PREVIOUS VALUES REMOVING IT AND THEN DIVIDING\n",
    "    return x"
   ]
  },
  {
   "cell_type": "code",
   "execution_count": 56,
   "id": "2a9f5a1b-9581-4eaf-b106-cf8e7a8c71a7",
   "metadata": {},
   "outputs": [
    {
     "data": {
      "text/plain": [
       "array([1., 2., 5.])"
      ]
     },
     "execution_count": 56,
     "metadata": {},
     "output_type": "execute_result"
    }
   ],
   "source": [
    "Z=forward_substitution(L, b)#assuming ux=z\n",
    "Z#LZ=b"
   ]
  },
  {
   "cell_type": "code",
   "execution_count": 57,
   "id": "40b65103-9fb9-472f-9ccb-aec23b68634b",
   "metadata": {},
   "outputs": [],
   "source": [
    "X=backward_substitution(U, Z)#UX=Z"
   ]
  },
  {
   "cell_type": "code",
   "execution_count": 58,
   "id": "68f3c019-7e11-4247-b14d-e5e4af29725e",
   "metadata": {},
   "outputs": [
    {
     "data": {
      "text/plain": [
       "array([ 1. ,  0.5, -0.5])"
      ]
     },
     "execution_count": 58,
     "metadata": {},
     "output_type": "execute_result"
    }
   ],
   "source": [
    "X#fINAL ANSWER"
   ]
  },
  {
   "cell_type": "code",
   "execution_count": 59,
   "id": "2e09ab1d-0012-4031-962c-7f75935f7deb",
   "metadata": {},
   "outputs": [
    {
     "name": "stdout",
     "output_type": "stream",
     "text": [
      "[ 1.   0.5 -0.5]\n"
     ]
    }
   ],
   "source": [
    "print(X)"
   ]
  },
  {
   "cell_type": "code",
   "execution_count": null,
   "id": "e4da70b7-fe93-4fa2-80e4-e59ab3c49027",
   "metadata": {},
   "outputs": [],
   "source": [
    "#Algorithm is Doolittle's algorithm"
   ]
  }
 ],
 "metadata": {
  "kernelspec": {
   "display_name": "Python 3 (ipykernel)",
   "language": "python",
   "name": "python3"
  },
  "language_info": {
   "codemirror_mode": {
    "name": "ipython",
    "version": 3
   },
   "file_extension": ".py",
   "mimetype": "text/x-python",
   "name": "python",
   "nbconvert_exporter": "python",
   "pygments_lexer": "ipython3",
   "version": "3.12.7"
  }
 },
 "nbformat": 4,
 "nbformat_minor": 5
}
